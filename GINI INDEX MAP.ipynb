{
 "cells": [
  {
   "cell_type": "code",
   "execution_count": 1,
   "id": "157b66c3",
   "metadata": {},
   "outputs": [],
   "source": [
    "import folium\n",
    "import pandas as pd \n",
    "from pandas_datareader import wb\n",
    "from ipywidgets import interact\n",
    "import ipywidgets as widgets\n",
    "import matplotlib.pyplot as plt\n",
    "import seaborn as sns\n",
    "import ipywidgets as widgets\n",
    "from IPython.display import display\n",
    "import numpy as np\n",
    "import mpld3"
   ]
  },
  {
   "cell_type": "markdown",
   "id": "fc2ce43c",
   "metadata": {},
   "source": [
    "For the first excersice select two indicator from a country they can be (economic, poverty or gender etc) then create a global map where the data showing in the dataframe is associate with the countries showing in the dataframe.\n",
    "\n",
    "For the second excercise, create a bar plot where the data is sorte from min to maxium.\n",
    "\n",
    "For the third excercise, create Widget where you can select the global map or the bar plot."
   ]
  },
  {
   "cell_type": "code",
   "execution_count": 2,
   "id": "a7dd450d",
   "metadata": {},
   "outputs": [],
   "source": [
    "gini = 'SI.POV.GINI'\n",
    "tugurios = 'EN.POP.SLUM.UR.ZS'"
   ]
  },
  {
   "cell_type": "code",
   "execution_count": 3,
   "id": "af877ffd",
   "metadata": {},
   "outputs": [],
   "source": [
    "gini_data = wb.download(indicator=gini, start=2020, end=2020, country='all').dropna()\n",
    "tugurios = wb.download(indicator=tugurios, start=2020, end=2020, country='all').dropna()\n",
    "tugurios = tugurios.drop(tugurios.index[:17])"
   ]
  },
  {
   "cell_type": "code",
   "execution_count": 4,
   "id": "2b01b60e",
   "metadata": {},
   "outputs": [],
   "source": [
    "ind_gini = gini_data.rename(columns={'SI.POV.GINI': 'GINI'})\n",
    "tugurios = tugurios.rename(columns={'EN.POP.SLUM.UR.ZS' : 'Tugurios'})\n",
    "ind_gini = ind_gini.reset_index()\n",
    "tugurios = tugurios.reset_index()\n",
    "tugurios_sorted = tugurios.sort_values(\"Tugurios\")"
   ]
  },
  {
   "cell_type": "code",
   "execution_count": 5,
   "id": "b786f005",
   "metadata": {},
   "outputs": [],
   "source": [
    "political_countries_url = (\n",
    " \"http://geojson.xyz/naturalearth-3.3.0/ne_50m_admin_0_countries.geojson\"\n",
    ")\n",
    "m = folium.Map(location=(30, 10), zoom_start=3, tiles=\"cartodb positron\")\n",
    "folium.GeoJson(political_countries_url).add_to(m)\n",
    "m.save(\"footprint.html\")"
   ]
  },
  {
   "cell_type": "code",
   "execution_count": 6,
   "id": "a144fba6",
   "metadata": {},
   "outputs": [],
   "source": [
    "political_countries_url = \"http://geojson.xyz/naturalearth-3.3.0/ne_50m_admin_0_countries.geojson\"\n",
    "\n",
    "\n",
    "m = folium.Map(location=(30, 10), zoom_start=3, tiles=\"cartodb positron\")\n",
    "\n",
    "folium.Choropleth(\n",
    "    geo_data=political_countries_url,\n",
    "    data=ind_gini,\n",
    "    columns=['country', \"GINI\"],\n",
    "    key_on=\"feature.properties.name\"\n",
    ").add_to(m)\n",
    "\n",
    "m.save(\"footprint.html\")\n"
   ]
  },
  {
   "cell_type": "code",
   "execution_count": 7,
   "id": "df28259d",
   "metadata": {},
   "outputs": [],
   "source": [
    "m = folium.Map(location=(30, 10), zoom_start=3, tiles=\"cartodb positron\")\n",
    "\n",
    "folium.Choropleth(\n",
    "    geo_data=political_countries_url,\n",
    "    data=tugurios,\n",
    "    columns=['country', \"Tugurios\"],\n",
    "    key_on=\"feature.properties.name\"\n",
    ").add_to(m)\n",
    "\n",
    "m.save(\"footprint.html\")\n"
   ]
  },
  {
   "cell_type": "code",
   "execution_count": 8,
   "id": "fcb730ab",
   "metadata": {},
   "outputs": [
    {
     "data": {
      "application/vnd.jupyter.widget-view+json": {
       "model_id": "e37142c469ff4f4b9c98e4bfaed5a8e7",
       "version_major": 2,
       "version_minor": 0
      },
      "text/plain": [
       "VBox(children=(HBox(children=(Button(description='Mostrar gráfico', style=ButtonStyle()), Button(description='…"
      ]
     },
     "metadata": {},
     "output_type": "display_data"
    }
   ],
   "source": [
    "def create_widget(tugurios, political_countries_url):\n",
    "    tugurios_sorted = tugurios.sort_values(by=\"Tugurios\")\n",
    "    num_bars = len(tugurios)\n",
    "    bar_colors = plt.cm.Set3(np.linspace(0, 1, num_bars))\n",
    "    fig, ax = plt.subplots(figsize=(20, 10))\n",
    "    plt.bar(tugurios_sorted['country'], tugurios_sorted[\"Tugurios\"], color=bar_colors)\n",
    "    plt.xlabel(\"País\", fontsize=16)\n",
    "    plt.ylabel(\"Personas viviendo en Tugurios\", fontsize=16)\n",
    "    plt.title(\"Cantidad de personas viviendo en tugurios por país\", fontsize=16)\n",
    "    plt.xticks(rotation=90)\n",
    "    for spine in plt.gca().spines.values():\n",
    "        spine.set_visible(False)\n",
    "    m = folium.Map(location=(30, 10), zoom_start=3, tiles=\"cartodb positron\")\n",
    "    folium.Choropleth(\n",
    "        geo_data=political_countries_url,\n",
    "        data=tugurios,\n",
    "        columns=['country', \"Tugurios\"],\n",
    "        key_on=\"feature.properties.name\"\n",
    "    ).add_to(m)\n",
    "    plt_widget = widgets.Output()\n",
    "    with plt_widget:\n",
    "        plt.show()\n",
    "    m_widget = widgets.HTML()\n",
    "    m_widget.value = m._repr_html_()\n",
    "\n",
    "    show_plot_button = widgets.Button(description=\"Mostrar gráfico\")\n",
    "    show_map_button = widgets.Button(description=\"Mostrar mapa\")\n",
    "\n",
    "    def show_plot(button):\n",
    "        plt_widget.layout.display = 'block'\n",
    "        m_widget.layout.display = 'none'\n",
    "        show_plot_button.layout.display = 'none'\n",
    "        show_map_button.layout.display = 'block'\n",
    "\n",
    "    def show_map(button):\n",
    "        plt_widget.layout.display = 'none'\n",
    "        m_widget.layout.display = 'block'\n",
    "        show_plot_button.layout.display = 'block'\n",
    "        show_map_button.layout.display = 'none'\n",
    "\n",
    "    show_plot_button.on_click(show_plot)\n",
    "    show_map_button.on_click(show_map)\n",
    "\n",
    "    m_widget.layout.display = 'none'\n",
    "    show_map_button.layout.display = 'block'\n",
    "\n",
    "    return widgets.VBox([widgets.HBox([show_plot_button, show_map_button]), plt_widget, m_widget])\n",
    "\n",
    "political_countries_url = \"http://geojson.xyz/naturalearth-3.3.0/ne_50m_admin_0_countries.geojson\"\n",
    "widget = create_widget(tugurios, political_countries_url)\n",
    "display(widget)\n",
    "\n",
    "\n"
   ]
  },
  {
   "cell_type": "code",
   "execution_count": 9,
   "id": "e8629b32",
   "metadata": {},
   "outputs": [],
   "source": [
    "def create_widget(and_gini, political_countries_url):\n",
    "    gini_sorted = and_gini.sort_values(by=\"GINI\")\n",
    "    num_bars = len(and_gini)\n",
    "    bar_colors = plt.cm.Set3(np.linspace(0, 1, num_bars))\n",
    "    fig, ax = plt.subplots(figsize=(20, 10))\n",
    "    plt.bar(gini_sorted['country'], gini_sorted[\"GINI\"], color=bar_colors)\n",
    "    plt.xlabel(\"País\", fontsize=16)\n",
    "    plt.ylabel(\"Indice de Gini\", fontsize=16)\n",
    "    plt.title(\"Indice de GINI\", fontsize=16)\n",
    "    plt.xticks(rotation=90)\n",
    "    for spine in plt.gca().spines.values():\n",
    "        spine.set_visible(False)\n",
    "    m = folium.Map(location=(30, 10), zoom_start=3, tiles=\"cartodb positron\")    \n",
    "    folium.Choropleth(\n",
    "        geo_data=political_countries_url,\n",
    "        data=and_gini,\n",
    "        columns=['country', \"GINI\"],\n",
    "        key_on=\"feature.properties.name\"\n",
    "    ).add_to(m)\n",
    "    plt_widget = widgets.Output()\n",
    "    with plt_widget:\n",
    "        plt.show()\n",
    "    m_widget = widgets.HTML()\n",
    "    m_widget.value = m._repr_html_()\n",
    "    show_plot_button = widgets.Button(description=\"Grafico\")\n",
    "    show_map_button = widgets.Button(description=\"Mapa\")\n",
    "    def show_plot(button):\n",
    "        plt_widget.layout.display = 'block'\n",
    "        m_widget.layout.display = 'none'\n",
    "        show_plot_button.layout.display = 'none'\n",
    "        show_map_button.layout.display = 'block'\n",
    "\n",
    "    def show_map(button):\n",
    "        plt_widget.layout.display = 'none'\n",
    "        m_widget.layout.display = 'block'\n",
    "        show_plot_button.layout.display = 'block'\n",
    "        show_map_button.layout.display = 'none'\n",
    "    show_plot_button.on_click(show_plot)\n",
    "    show_map_button.on_click(show_map)\n",
    "    m_widget.layout.display = 'none'\n",
    "    show_map_button.layout.display = 'block'\n",
    "    return widgets.VBox([widgets.HBox([show_plot_button, show_map_button]), plt_widget, m_widget])\n"
   ]
  },
  {
   "cell_type": "code",
   "execution_count": 10,
   "id": "47fd5772",
   "metadata": {},
   "outputs": [
    {
     "data": {
      "application/vnd.jupyter.widget-view+json": {
       "model_id": "8126de78ea064de2bd8b2f6c757c4a66",
       "version_major": 2,
       "version_minor": 0
      },
      "text/plain": [
       "VBox(children=(HBox(children=(Button(description='Grafico', style=ButtonStyle()), Button(description='Mapa', l…"
      ]
     },
     "metadata": {},
     "output_type": "display_data"
    }
   ],
   "source": [
    "political_countries_url = \"http://geojson.xyz/naturalearth-3.3.0/ne_50m_admin_0_countries.geojson\"\n",
    "widget = create_widget(ind_gini, political_countries_url)\n",
    "display(widget)"
   ]
  },
  {
   "cell_type": "code",
   "execution_count": null,
   "id": "19a73e03",
   "metadata": {},
   "outputs": [],
   "source": []
  }
 ],
 "metadata": {
  "kernelspec": {
   "display_name": "Python 3 (ipykernel)",
   "language": "python",
   "name": "python3"
  },
  "language_info": {
   "codemirror_mode": {
    "name": "ipython",
    "version": 3
   },
   "file_extension": ".py",
   "mimetype": "text/x-python",
   "name": "python",
   "nbconvert_exporter": "python",
   "pygments_lexer": "ipython3",
   "version": "3.9.7"
  }
 },
 "nbformat": 4,
 "nbformat_minor": 5
}
